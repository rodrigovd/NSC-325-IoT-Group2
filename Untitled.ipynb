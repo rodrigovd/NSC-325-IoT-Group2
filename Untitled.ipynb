{
 "cells": [
  {
   "cell_type": "code",
   "execution_count": 1,
   "id": "dated-sitting",
   "metadata": {},
   "outputs": [],
   "source": [
    "import pandas as pd\n",
    "import numpy as np"
   ]
  },
  {
   "cell_type": "code",
   "execution_count": 2,
   "id": "classical-graph",
   "metadata": {},
   "outputs": [],
   "source": [
    "url = 'http://standards-oui.ieee.org/oui/oui.csv'"
   ]
  },
  {
   "cell_type": "code",
   "execution_count": 3,
   "id": "familiar-savings",
   "metadata": {},
   "outputs": [
    {
     "data": {
      "text/html": [
       "<div>\n",
       "<style scoped>\n",
       "    .dataframe tbody tr th:only-of-type {\n",
       "        vertical-align: middle;\n",
       "    }\n",
       "\n",
       "    .dataframe tbody tr th {\n",
       "        vertical-align: top;\n",
       "    }\n",
       "\n",
       "    .dataframe thead th {\n",
       "        text-align: right;\n",
       "    }\n",
       "</style>\n",
       "<table border=\"1\" class=\"dataframe\">\n",
       "  <thead>\n",
       "    <tr style=\"text-align: right;\">\n",
       "      <th></th>\n",
       "      <th>Registry</th>\n",
       "      <th>Assignment</th>\n",
       "      <th>Organization Name</th>\n",
       "      <th>Organization Address</th>\n",
       "    </tr>\n",
       "  </thead>\n",
       "  <tbody>\n",
       "    <tr>\n",
       "      <th>0</th>\n",
       "      <td>MA-L</td>\n",
       "      <td>002272</td>\n",
       "      <td>American Micro-Fuel Device Corp.</td>\n",
       "      <td>2181 Buchanan Loop Ferndale WA US 98248</td>\n",
       "    </tr>\n",
       "    <tr>\n",
       "      <th>1</th>\n",
       "      <td>MA-L</td>\n",
       "      <td>00D0EF</td>\n",
       "      <td>IGT</td>\n",
       "      <td>9295 PROTOTYPE DRIVE RENO NV US 89511</td>\n",
       "    </tr>\n",
       "    <tr>\n",
       "      <th>2</th>\n",
       "      <td>MA-L</td>\n",
       "      <td>086195</td>\n",
       "      <td>Rockwell Automation</td>\n",
       "      <td>1 Allen-Bradley Dr. Mayfield Heights OH US 441...</td>\n",
       "    </tr>\n",
       "    <tr>\n",
       "      <th>3</th>\n",
       "      <td>MA-L</td>\n",
       "      <td>F4BD9E</td>\n",
       "      <td>Cisco Systems, Inc</td>\n",
       "      <td>80 West Tasman Drive San Jose CA US 94568</td>\n",
       "    </tr>\n",
       "    <tr>\n",
       "      <th>4</th>\n",
       "      <td>MA-L</td>\n",
       "      <td>5885E9</td>\n",
       "      <td>Realme Chongqing MobileTelecommunications Corp...</td>\n",
       "      <td>No.24 Nichang Boulevard, Huixing Block, Yubei ...</td>\n",
       "    </tr>\n",
       "  </tbody>\n",
       "</table>\n",
       "</div>"
      ],
      "text/plain": [
       "  Registry Assignment                                  Organization Name  \\\n",
       "0     MA-L     002272                   American Micro-Fuel Device Corp.   \n",
       "1     MA-L     00D0EF                                                IGT   \n",
       "2     MA-L     086195                                Rockwell Automation   \n",
       "3     MA-L     F4BD9E                                 Cisco Systems, Inc   \n",
       "4     MA-L     5885E9  Realme Chongqing MobileTelecommunications Corp...   \n",
       "\n",
       "                                Organization Address  \n",
       "0           2181 Buchanan Loop Ferndale WA US 98248   \n",
       "1             9295 PROTOTYPE DRIVE RENO NV US 89511   \n",
       "2  1 Allen-Bradley Dr. Mayfield Heights OH US 441...  \n",
       "3         80 West Tasman Drive San Jose CA US 94568   \n",
       "4  No.24 Nichang Boulevard, Huixing Block, Yubei ...  "
      ]
     },
     "execution_count": 3,
     "metadata": {},
     "output_type": "execute_result"
    }
   ],
   "source": [
    "df = pd.read_csv(url,dtype=str)\n",
    "df.head()"
   ]
  },
  {
   "cell_type": "code",
   "execution_count": 4,
   "id": "beautiful-fireplace",
   "metadata": {},
   "outputs": [
    {
     "data": {
      "text/html": [
       "<div>\n",
       "<style scoped>\n",
       "    .dataframe tbody tr th:only-of-type {\n",
       "        vertical-align: middle;\n",
       "    }\n",
       "\n",
       "    .dataframe tbody tr th {\n",
       "        vertical-align: top;\n",
       "    }\n",
       "\n",
       "    .dataframe thead th {\n",
       "        text-align: right;\n",
       "    }\n",
       "</style>\n",
       "<table border=\"1\" class=\"dataframe\">\n",
       "  <thead>\n",
       "    <tr style=\"text-align: right;\">\n",
       "      <th></th>\n",
       "      <th>Registry</th>\n",
       "      <th>Assignment</th>\n",
       "      <th>Organization Name</th>\n",
       "      <th>Organization Address</th>\n",
       "    </tr>\n",
       "  </thead>\n",
       "  <tbody>\n",
       "  </tbody>\n",
       "</table>\n",
       "</div>"
      ],
      "text/plain": [
       "Empty DataFrame\n",
       "Columns: [Registry, Assignment, Organization Name, Organization Address]\n",
       "Index: []"
      ]
     },
     "execution_count": 4,
     "metadata": {},
     "output_type": "execute_result"
    }
   ],
   "source": [
    "df[df.Assignment == '769B54']"
   ]
  },
  {
   "cell_type": "code",
   "execution_count": 5,
   "id": "supposed-option",
   "metadata": {},
   "outputs": [
    {
     "data": {
      "text/plain": [
       "Index(['Registry', 'Assignment', 'Organization Name', 'Organization Address'], dtype='object')"
      ]
     },
     "execution_count": 5,
     "metadata": {},
     "output_type": "execute_result"
    }
   ],
   "source": [
    "df.columns"
   ]
  },
  {
   "cell_type": "code",
   "execution_count": 6,
   "id": "killing-celtic",
   "metadata": {},
   "outputs": [],
   "source": [
    "macs = {'192.168.0.1': '2c:99:24:30:de:18', '192.168.0.2': '34:d2:70:ac:66:c5', '192.168.0.7': '1c:bf:c0:0d:3f:89', '192.168.0.3': 'c0:d2:dd:0e:a4:25', '192.168.0.4': '76:9b:54:ba:7a:66', '192.168.0.252': '00:00:ca:01:02:03'}"
   ]
  },
  {
   "cell_type": "code",
   "execution_count": 7,
   "id": "orange-porcelain",
   "metadata": {
    "scrolled": true
   },
   "outputs": [
    {
     "name": "stdout",
     "output_type": "stream",
     "text": [
      "ARRIS Group, Inc\n",
      "Amazon Technologies Inc\n",
      "CHONGQING FUGUI ELECTRONICS CO.,LTD\n",
      "Samsung Electronics Co.,Lt\n",
      "([],\n",
      "ARRIS Group, Inc\n"
     ]
    }
   ],
   "source": [
    "dic = {}\n",
    "ip_list = []\n",
    "m_list = []\n",
    "vendor_list = []\n",
    "loc_list = []\n",
    "\n",
    "for ip,m in zip(macs.keys(), macs.values()):\n",
    "    mac_ids =m[:8]\n",
    "    nes = mac_ids.replace(':','')\n",
    "    search = f'{nes.upper()}'\n",
    "#     print(search)\n",
    "    ip_list.append(ip)\n",
    "    m_list.append(m)\n",
    "    ans = df[df.Assignment == search]\n",
    "    vendor = str(ans['Organization Name'])[6:-40].lstrip()\n",
    "    l = str(ans['Organization Address'])[6:].strip()\n",
    "    loc =l.replace(' \\nName: Organization Address, dtype: object','')\n",
    "    print(vendor)\n",
    "    if '([],' in vendor:\n",
    "        vendor_list.append('Not Discovered')\n",
    "        loc_list.append('Not Discovered')\n",
    "    \n",
    "#     n.append(ans['Organization Name'])\n",
    "    else:\n",
    "        vendor_list.append(vendor)\n",
    "        loc_list.append(loc)\n",
    "dic['ip'] = ip_list\n",
    "dic['mac adresses'] = m_list\n",
    "dic['vendor'] = vendor_list\n",
    "dic['location'] = loc_list\n",
    "df2 = pd.DataFrame(dic)"
   ]
  },
  {
   "cell_type": "code",
   "execution_count": 8,
   "id": "identical-adams",
   "metadata": {},
   "outputs": [
    {
     "name": "stdout",
     "output_type": "stream",
     "text": [
      "              ip       mac adresses                               vendor  \\\n",
      "0    192.168.0.1  2c:99:24:30:de:18                     ARRIS Group, Inc   \n",
      "1    192.168.0.2  34:d2:70:ac:66:c5              Amazon Technologies Inc   \n",
      "2    192.168.0.7  1c:bf:c0:0d:3f:89  CHONGQING FUGUI ELECTRONICS CO.,LTD   \n",
      "3    192.168.0.3  c0:d2:dd:0e:a4:25           Samsung Electronics Co.,Lt   \n",
      "4    192.168.0.4  76:9b:54:ba:7a:66                       Not Discovered   \n",
      "5  192.168.0.252  00:00:ca:01:02:03                     ARRIS Group, Inc   \n",
      "\n",
      "                                            location  \n",
      "0          6450 Sequence Drive San Diego CA US 92121  \n",
      "1                      P.O Box 8102 Reno NV US 89507  \n",
      "2  Building D21,No.1, East Zone 1st Road,Xiyong T...  \n",
      "3        #94-1, Imsoo-Dong Gumi Gyeongbuk KR 730-350  \n",
      "4                                     Not Discovered  \n",
      "5          6450 Sequence Drive San Diego CA US 92121  \n"
     ]
    }
   ],
   "source": [
    "with pd.option_context('display.max_rows', None, 'display.max_columns', None):  # more options can be specified also\n",
    "    print(df2)"
   ]
  },
  {
   "cell_type": "code",
   "execution_count": 11,
   "id": "classified-institute",
   "metadata": {},
   "outputs": [
    {
     "name": "stdout",
     "output_type": "stream",
     "text": [
      "+----+---------------+-------------------+-------------------------------------+---------------------------------------------------+\n",
      "|    | ip            | mac adresses      | vendor                              | location                                          |\n",
      "|----+---------------+-------------------+-------------------------------------+---------------------------------------------------|\n",
      "|  0 | 192.168.0.1   | 2c:99:24:30:de:18 | ARRIS Group, Inc                    | 6450 Sequence Drive San Diego CA US 92121         |\n",
      "|  1 | 192.168.0.2   | 34:d2:70:ac:66:c5 | Amazon Technologies Inc             | P.O Box 8102 Reno NV US 89507                     |\n",
      "|  2 | 192.168.0.7   | 1c:bf:c0:0d:3f:89 | CHONGQING FUGUI ELECTRONICS CO.,LTD | Building D21,No.1, East Zone 1st Road,Xiyong T... |\n",
      "|    |               |                   |                                     | Name: Organization Address, dtype: object         |\n",
      "|  3 | 192.168.0.3   | c0:d2:dd:0e:a4:25 | Samsung Electronics Co.,Lt          | #94-1, Imsoo-Dong Gumi Gyeongbuk KR 730-350       |\n",
      "|  4 | 192.168.0.4   | 76:9b:54:ba:7a:66 | Not Discovered                      | Not Discovered                                    |\n",
      "|  5 | 192.168.0.252 | 00:00:ca:01:02:03 | ARRIS Group, Inc                    | 6450 Sequence Drive San Diego CA US 92121         |\n",
      "+----+---------------+-------------------+-------------------------------------+---------------------------------------------------+\n"
     ]
    }
   ],
   "source": [
    "from tabulate import tabulate\n",
    "\n",
    "print(tabulate(df2, headers='keys', tablefmt='psql'))"
   ]
  },
  {
   "cell_type": "code",
   "execution_count": null,
   "id": "certain-transfer",
   "metadata": {},
   "outputs": [],
   "source": []
  }
 ],
 "metadata": {
  "kernelspec": {
   "display_name": "Network",
   "language": "python",
   "name": "network"
  },
  "language_info": {
   "codemirror_mode": {
    "name": "ipython",
    "version": 3
   },
   "file_extension": ".py",
   "mimetype": "text/x-python",
   "name": "python",
   "nbconvert_exporter": "python",
   "pygments_lexer": "ipython3",
   "version": "3.8.5"
  }
 },
 "nbformat": 4,
 "nbformat_minor": 5
}
