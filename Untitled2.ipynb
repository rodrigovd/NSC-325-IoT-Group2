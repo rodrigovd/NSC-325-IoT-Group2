{
 "cells": [
  {
   "cell_type": "code",
   "execution_count": 1,
   "id": "chicken-healing",
   "metadata": {},
   "outputs": [],
   "source": [
    "import numpy as np\n",
    "import pandas as pd\n",
    "import tabulate as tab\n"
   ]
  },
  {
   "cell_type": "code",
   "execution_count": 8,
   "id": "uniform-sociology",
   "metadata": {},
   "outputs": [],
   "source": [
    "\n",
    "def get_vendor_details(url='http://standards-oui.ieee.org/oui/oui.csv'):\n",
    "    df=pd.read_csv(url,dtype=str)\n",
    "    return df\n",
    "    \n",
    "def main_mac(macs=\n",
    "             {'192.168.0.1': '2c:99:24:30:de:18', '192.168.0.2': '34:d2:70:ac:66:c5', '192.168.0.7': '1c:bf:c0:0d:3f:89', '192.168.0.3': 'c0:d2:dd:0e:a4:25', '192.168.0.4': '76:9b:54:ba:7a:66', '192.168.0.252': '00:00:ca:01:02:03'}\n",
    "            ): \n",
    "\n",
    "    dic = {}\n",
    "    ip_list = []\n",
    "    m_list = []\n",
    "    vendor_list = []\n",
    "    loc_list = []\n",
    "    df = get_vendor_details()\n",
    "    for ip,m in zip(macs.keys(), macs.values()):\n",
    "        mac_ids =m[:8]\n",
    "        nes = mac_ids.replace(':','')\n",
    "        search = f'{nes.upper()}'\n",
    "    #     print(search)\n",
    "        ip_list.append(ip)\n",
    "        m_list.append(m)\n",
    "        ans = df[df.Assignment == search]\n",
    "        vendor = str(ans['Organization Name'])[6:-40].lstrip()\n",
    "        l = str(ans['Organization Address'])[6:].strip()\n",
    "        loc =l.replace(' \\nName: Organization Address, dtype: object','')\n",
    "        if '([],' in vendor:\n",
    "            vendor_list.append('Not Discovered')\n",
    "            loc_list.append('Not Discovered')\n",
    "\n",
    "    #     n.append(ans['Organization Name'])\n",
    "        else:\n",
    "            vendor_list.append(vendor)\n",
    "            loc_list.append(loc)\n",
    "    dic['ip'] = ip_list\n",
    "    dic['mac adresses'] = m_list\n",
    "    dic['vendor'] = vendor_list\n",
    "    dic['location'] = loc_list\n",
    "    df2 = pd.DataFrame(dic)\n",
    "    return df2"
   ]
  },
  {
   "cell_type": "code",
   "execution_count": 17,
   "id": "proved-radiation",
   "metadata": {},
   "outputs": [],
   "source": [
    "p= main_mac()"
   ]
  },
  {
   "cell_type": "code",
   "execution_count": 16,
   "id": "unlike-maldives",
   "metadata": {},
   "outputs": [],
   "source": [
    "headers =p.columns"
   ]
  },
  {
   "cell_type": "code",
   "execution_count": 22,
   "id": "silent-start",
   "metadata": {},
   "outputs": [
    {
     "name": "stdout",
     "output_type": "stream",
     "text": [
      "              ip       mac adresses                               vendor  \\\n",
      "0    192.168.0.1  2c:99:24:30:de:18                     ARRIS Group, Inc   \n",
      "1    192.168.0.2  34:d2:70:ac:66:c5              Amazon Technologies Inc   \n",
      "2    192.168.0.7  1c:bf:c0:0d:3f:89  CHONGQING FUGUI ELECTRONICS CO.,LTD   \n",
      "3    192.168.0.3  c0:d2:dd:0e:a4:25           Samsung Electronics Co.,Lt   \n",
      "4    192.168.0.4  76:9b:54:ba:7a:66                       Not Discovered   \n",
      "5  192.168.0.252  00:00:ca:01:02:03                     ARRIS Group, Inc   \n",
      "\n",
      "                                            location  \n",
      "0          6450 Sequence Drive San Diego CA US 92121  \n",
      "1                      P.O Box 8102 Reno NV US 89507  \n",
      "2  Building D21,No.1, East Zone 1st Road,Xiyong T...  \n",
      "3        #94-1, Imsoo-Dong Gumi Gyeongbuk KR 730-350  \n",
      "4                                     Not Discovered  \n",
      "5          6450 Sequence Drive San Diego CA US 92121  \n"
     ]
    }
   ],
   "source": [
    "print(p)"
   ]
  },
  {
   "cell_type": "code",
   "execution_count": null,
   "id": "official-finish",
   "metadata": {},
   "outputs": [],
   "source": []
  }
 ],
 "metadata": {
  "kernelspec": {
   "display_name": "Network",
   "language": "python",
   "name": "network"
  },
  "language_info": {
   "codemirror_mode": {
    "name": "ipython",
    "version": 3
   },
   "file_extension": ".py",
   "mimetype": "text/x-python",
   "name": "python",
   "nbconvert_exporter": "python",
   "pygments_lexer": "ipython3",
   "version": "3.8.5"
  }
 },
 "nbformat": 4,
 "nbformat_minor": 5
}
